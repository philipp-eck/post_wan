{
 "cells": [
  {
   "cell_type": "code",
   "execution_count": 1,
   "metadata": {},
   "outputs": [],
   "source": [
    "import numpy as np\n",
    "#import scipy as sc\n",
    "from observables import observables\n",
    "from operators   import operator\n",
    "from hamiltonian import hamiltonian\n",
    "from k_space     import k_space\n",
    "from z2_wcc import z2_wcc\n",
    "#import matplotlib.pyplot as plt\n",
    "#import time\n",
    "#import matplotlib\n",
    "from triang_ham import p_triang_ham\n",
    "#import copy\n",
    "#import pickle"
   ]
  },
  {
   "cell_type": "code",
   "execution_count": 2,
   "metadata": {},
   "outputs": [],
   "source": [
    "def model_par(plot_type):\n",
    "    lambda_soc =  0.15\n",
    "    lambda_mir_triv = 0.1\n",
    "    lambda_isb_triv = 0.04\n",
    "    V_si       =  0.7  # 1.4 In p sigma bond hybridization / positive valued\n",
    "    V_pi       = -0.15 # 0.4 In p pi bond hybridization    / negative valued\n",
    "    V_pz       = -0.25\n",
    "    E_pxy      =  0.0\n",
    "    E_pz       = -0.7 #Added to stabilize global gap\n",
    "    if plot_type == \"free\":\n",
    "        lambda_mir = 0.00\n",
    "        lambda_isb = 0.00\n",
    "        lambda_soc *=2\n",
    "    elif plot_type == \"free+isb+mir\":\n",
    "        lambda_mir = lambda_mir_triv/6\n",
    "        lambda_isb = lambda_isb_triv/3\n",
    "        lambda_soc *= 1\n",
    "    elif plot_type == \"isb+mir\":\n",
    "        lambda_mir = lambda_mir_triv\n",
    "        lambda_isb = lambda_isb_triv\n",
    "        lambda_soc *= 0.5\n",
    "    elif plot_type == \"free+mir\":\n",
    "        lambda_mir = lambda_mir_triv\n",
    "        lambda_isb = lambda_isb_triv/3\n",
    "\n",
    "    return V_si,V_pi,V_pz,E_pxy,E_pz,lambda_soc,lambda_mir,lambda_isb\n",
    "\n",
    "\n"
   ]
  },
  {
   "cell_type": "markdown",
   "metadata": {},
   "source": [
    "# Band structure"
   ]
  },
  {
   "cell_type": "code",
   "execution_count": 3,
   "metadata": {},
   "outputs": [
    {
     "name": "stdout",
     "output_type": "stream",
     "text": [
      "Fermi energy: -0.893\n",
      "gap         :  0.560\n",
      "Initializing k-independent operator L.\n",
      "Initializing k-independent operator S.\n",
      "Calculating operators on the given k-space...\n",
      "Diagonalizing all k-points in parallel.\n",
      "Time for running H(k) FT: 0.0010900497436523438\n",
      "Time for diagonalizing H(k): 0.007420063018798828\n",
      "Time for calculating expectation value of operator L: 0.009764909744262695\n",
      "Time for calculating expectation value of operator S: 0.01168203353881836\n",
      "Shifting eigenvalues w.r.t. Fermi level...\n",
      "Running post-processing for operator L.\n",
      "Running post-processing for operator S.\n",
      "Writing eigenvalues output.\n",
      "Writing output for operator L.\n",
      "Writing output for operator S.\n",
      "Fermi energy: -0.860\n",
      "gap         :  0.109\n",
      "Initializing k-independent operator L.\n",
      "Initializing k-independent operator S.\n",
      "Calculating operators on the given k-space...\n",
      "Diagonalizing all k-points in parallel.\n",
      "Time for running H(k) FT: 0.0009179115295410156\n",
      "Time for diagonalizing H(k): 0.010149002075195312\n",
      "Time for calculating expectation value of operator L: 0.0100250244140625\n",
      "Time for calculating expectation value of operator S: 0.012830018997192383\n",
      "Shifting eigenvalues w.r.t. Fermi level...\n",
      "Running post-processing for operator L.\n",
      "Running post-processing for operator S.\n",
      "Writing eigenvalues output.\n",
      "Writing output for operator L.\n",
      "Writing output for operator S.\n",
      "Fermi energy: -0.832\n",
      "gap         :  0.251\n",
      "Initializing k-independent operator L.\n",
      "Initializing k-independent operator S.\n",
      "Calculating operators on the given k-space...\n",
      "Diagonalizing all k-points in parallel.\n",
      "Time for running H(k) FT: 0.0012509822845458984\n",
      "Time for diagonalizing H(k): 0.009563922882080078\n",
      "Time for calculating expectation value of operator L: 0.010502099990844727\n",
      "Time for calculating expectation value of operator S: 0.010984182357788086\n",
      "Shifting eigenvalues w.r.t. Fermi level...\n",
      "Running post-processing for operator L.\n",
      "Running post-processing for operator S.\n",
      "Writing eigenvalues output.\n",
      "Writing output for operator L.\n",
      "Writing output for operator S.\n",
      "Fermi energy: -0.851\n",
      "gap         :  0.200\n",
      "Initializing k-independent operator L.\n",
      "Initializing k-independent operator S.\n",
      "Calculating operators on the given k-space...\n",
      "Diagonalizing all k-points in parallel.\n",
      "Time for running H(k) FT: 0.001119852066040039\n",
      "Time for diagonalizing H(k): 0.009816884994506836\n",
      "Time for calculating expectation value of operator L: 0.010827064514160156\n",
      "Time for calculating expectation value of operator S: 0.01096487045288086\n",
      "Shifting eigenvalues w.r.t. Fermi level...\n",
      "Running post-processing for operator L.\n",
      "Running post-processing for operator S.\n",
      "Writing eigenvalues output.\n",
      "Writing output for operator L.\n",
      "Writing output for operator S.\n"
     ]
    }
   ],
   "source": [
    "ops  = ['L','S']\n",
    "models = ['free','free+isb+mir','isb+mir','free+mir',]\n",
    "spin = True\n",
    "for model in models:\n",
    "    pref = model+'_'\n",
    "    V_si,V_pi,V_pz,E_pxy,E_pz,l_soc,l_mir,l_isb = model_par(model)\n",
    "    Ham = p_triang_ham(V_si,V_pi,V_pz,E_pxy,E_pz,l_soc,l_mir,l_isb,spin)\n",
    "    ktype     = \"path\"\n",
    "    kbasis    = \"red\"\n",
    "    vecs = np.array([[-1/3,2/3,0],[1/3,1/3,0],[0.5,0,0],[0,0,0],[-1/3,2/3,0],[1/3,1/3,0]])\n",
    "    npoints = 250\n",
    "    K_space_bands = k_space(ktype,kbasis,vecs,Ham.bra_vec,npoints)\n",
    "    bands = observables(Ham,K_space_bands,ops,PREFIX=pref)\n",
    "    bands.calculate_ops()"
   ]
  },
  {
   "cell_type": "markdown",
   "metadata": {},
   "source": [
    "# Calculation of the $Z_2$ invatiant"
   ]
  },
  {
   "cell_type": "code",
   "execution_count": 7,
   "metadata": {
    "scrolled": true
   },
   "outputs": [
    {
     "name": "stdout",
     "output_type": "stream",
     "text": [
      "free+isb+mir\n",
      "Fermi energy: -0.860\n",
      "gap         :  0.109\n",
      "Calculating Z_2 invariant for Gamma-plane...\n",
      "Z_2=0\n",
      "Calculating Z_2 invariant for BZ-surface plane...\n",
      "Z_2=0\n",
      "isb+mir\n",
      "Fermi energy: -0.832\n",
      "gap         :  0.251\n",
      "Calculating Z_2 invariant for Gamma-plane...\n",
      "Z_2=0\n",
      "Calculating Z_2 invariant for BZ-surface plane...\n",
      "Z_2=0\n",
      "free+mir\n",
      "Fermi energy: -0.851\n",
      "gap         :  0.200\n",
      "Calculating Z_2 invariant for Gamma-plane...\n",
      "Jump at pump:92\n",
      "Z_2=1\n",
      "Calculating Z_2 invariant for BZ-surface plane...\n",
      "Jump at pump:92\n",
      "Z_2=1\n"
     ]
    },
    {
     "data": {
      "image/png": "[encoded data removed]",
      "text/plain": [
       "<Figure size 1440x360 with 2 Axes>"
      ]
     },
     "metadata": {
      "needs_background": "light"
     },
     "output_type": "display_data"
    },
    {
     "data": {
      "image/png": "[encoded data removed]",
      "text/plain": [
       "<Figure size 1440x360 with 2 Axes>"
      ]
     },
     "metadata": {
      "needs_background": "light"
     },
     "output_type": "display_data"
    },
    {
     "data": {
      "image/png": "[encoded data removed]",
      "text/plain": [
       "<Figure size 1440x360 with 2 Axes>"
      ]
     },
     "metadata": {
      "needs_background": "light"
     },
     "output_type": "display_data"
    }
   ],
   "source": [
    "models = ['free+isb+mir','isb+mir','free+mir']\n",
    "\n",
    "spin = True\n",
    "n_pump = np.array([140,140])\n",
    "normal = 3\n",
    "Z2 = True\n",
    "if Z2 == True:\n",
    "    for model in models:\n",
    "        print(model)\n",
    "        V_si,V_pi,V_pz,E_pxy,E_pz,l_soc,l_mir,l_isb = model_par(model)\n",
    "        ham = p_triang_ham(V_si,V_pi,V_pz,E_pxy,E_pz,l_soc,l_mir,l_isb,spin,FULL=False)\n",
    "        z2 = z2_wcc(ham,n_pump,normal)\n",
    "        z2.plot_wcc()"
   ]
  },
  {
   "cell_type": "markdown",
   "metadata": {},
   "source": [
    "# $H(k)$ on arbitrary momentum array\n",
    "$k$ musst be given in reduced coordinates, last dimension contains the three dimensional momentum vector"
   ]
  },
  {
   "cell_type": "code",
   "execution_count": 8,
   "metadata": {},
   "outputs": [],
   "source": [
    "k_arb = np.random.rand(6,5,1,3)#last is momentum, takes an arbitrary shape (path,2d,3d grid etc.)\n",
    "hk = ham.hk(k_arb)"
   ]
  }
 ],
 "metadata": {
  "kernelspec": {
   "display_name": "Python 3",
   "language": "python",
   "name": "python3"
  },
  "language_info": {
   "codemirror_mode": {
    "name": "ipython",
    "version": 3
   },
   "file_extension": ".py",
   "mimetype": "text/x-python",
   "name": "python",
   "nbconvert_exporter": "python",
   "pygments_lexer": "ipython3",
   "version": "3.5.4"
  }
 },
 "nbformat": 4,
 "nbformat_minor": 2
}
