{
 "cells": [
  {
   "cell_type": "code",
   "execution_count": 1,
   "metadata": {},
   "outputs": [],
   "source": [
    "import numpy as np\n",
    "from observables import z2_wcc\n",
    "from hamiltonian import hamiltonian"
   ]
  },
  {
   "cell_type": "code",
   "execution_count": 2,
   "metadata": {},
   "outputs": [],
   "source": [
    "import matplotlib.pyplot as plt\n",
    "def plot_wcc(wcc,gap):\n",
    "    fig_wcc = plt.figure(num=None, figsize=(20, 5))\n",
    "    plt.subplot(121)\n",
    "    plt.plot(wcc[0],'bs')\n",
    "    plt.plot(gap[0],'r-')\n",
    "    plt.subplot(122)\n",
    "    plt.plot(wcc[1],'bs')\n",
    "    plt.plot(gap[1],'r-')\n",
    "    plt.show"
   ]
  },
  {
   "cell_type": "code",
   "execution_count": 3,
   "metadata": {},
   "outputs": [
    {
     "name": "stdout",
     "output_type": "stream",
     "text": [
      "Reading Hamiltonian...\n",
      "Time for reading hr-file:  0.1282789707183838\n",
      "Hamiltonian from file ../../test_ham/In_SiC_soc.dat successfully loaded.\n",
      "H(R) is spin-less and contains 149 R-vectors and 8 orbitals.\n",
      "Bravais vectors have the wrong shape or are not defined!!!\n"
     ]
    }
   ],
   "source": [
    "inputfile = \"../../test_ham/In_SiC_soc.dat\"\n",
    "spin      = True\n",
    "n_elec    = 4\n",
    "\n",
    "Ham = hamiltonian(inputfile,N_ELEC=n_elec)"
   ]
  },
  {
   "cell_type": "code",
   "execution_count": 4,
   "metadata": {},
   "outputs": [
    {
     "name": "stdout",
     "output_type": "stream",
     "text": [
      "Hamiltonian is spin-less, cannot calculate Z_2 invariant\n",
      "Calculating Z_2 invariant for Gamma-plane...\n",
      "Z_2=0\n",
      "Calculating Z_2 invariant for BZ-surface plane...\n",
      "Z_2=0\n"
     ]
    }
   ],
   "source": [
    "n_pump = np.array([10,10])\n",
    "normal = 3\n",
    "z2 = z2_wcc(Ham,n_pump,normal)"
   ]
  },
  {
   "cell_type": "code",
   "execution_count": 5,
   "metadata": {},
   "outputs": [
    {
     "data": {
      "image/png": "[encoded data removed]",
      "text/plain": [
       "<Figure size 1440x360 with 2 Axes>"
      ]
     },
     "metadata": {
      "needs_background": "light"
     },
     "output_type": "display_data"
    }
   ],
   "source": [
    "plot_wcc(z2.wcc,z2.gap)"
   ]
  },
  {
   "cell_type": "code",
   "execution_count": 6,
   "metadata": {},
   "outputs": [
    {
     "name": "stdout",
     "output_type": "stream",
     "text": [
      "[[0.38211287 0.35045574 0.97929834 0.97652663]\n",
      " [0.39084636 0.35073264 0.98526862 0.97360023]\n",
      " [0.35875234 0.39934045 0.98971655 0.97606547]\n",
      " [0.37729942 0.4068954  0.9827233  0.9925024 ]\n",
      " [0.40399895 0.42071935 0.99045871 0.99645409]\n",
      " [0.44928851 0.42892157 0.00232021 0.99813503]\n",
      " [0.54027918 0.43987289 0.01260255 0.00928627]\n",
      " [0.87337352 0.07217876 0.03029545 0.01125172]\n",
      " [0.97741382 0.08238583 0.04646104 0.01170413]\n",
      " [0.07632914 0.00952587 0.01904157 0.04779336]]\n"
     ]
    }
   ],
   "source": [
    "print(z2.wcc[0])"
   ]
  },
  {
   "cell_type": "code",
   "execution_count": null,
   "metadata": {},
   "outputs": [],
   "source": []
  }
 ],
 "metadata": {
  "kernelspec": {
   "display_name": "Python 3",
   "language": "python",
   "name": "python3"
  },
  "language_info": {
   "codemirror_mode": {
    "name": "ipython",
    "version": 3
   },
   "file_extension": ".py",
   "mimetype": "text/x-python",
   "name": "python",
   "nbconvert_exporter": "python",
   "pygments_lexer": "ipython3",
   "version": "3.5.4"
  }
 },
 "nbformat": 4,
 "nbformat_minor": 2
}
