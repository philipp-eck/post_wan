{
 "cells": [
  {
   "cell_type": "code",
   "execution_count": 1,
   "metadata": {},
   "outputs": [],
   "source": [
    "import numpy as np\n",
    "from observables import z2_wcc\n",
    "from hamiltonian import hamiltonian"
   ]
  },
  {
   "cell_type": "code",
   "execution_count": 2,
   "metadata": {},
   "outputs": [],
   "source": [
    "import matplotlib.pyplot as plt\n",
    "def plot_wcc(wcc,gap):\n",
    "    fig_wcc = plt.figure(num=None, figsize=(20, 5))\n",
    "    plt.subplot(121)\n",
    "    plt.plot(wcc[0],'bs')\n",
    "    plt.plot(gap[0],'r-')\n",
    "    plt.subplot(122)\n",
    "    plt.plot(wcc[1],'bs')\n",
    "    plt.plot(gap[1],'r-')\n",
    "    plt.show"
   ]
  },
  {
   "cell_type": "code",
   "execution_count": 3,
   "metadata": {},
   "outputs": [
    {
     "name": "stdout",
     "output_type": "stream",
     "text": [
      "Reading Hamiltonian...\n",
      "Time for reading hr-file:  0.11362099647521973\n",
      "Hamiltonian from file ../../test_ham/In_SiC_soc.dat successfully loaded.\n",
      "H(R) is spin-less and contains 149 R-vectors and 8 orbitals.\n",
      "Bravais vectors have the wrong shape or are not defined!!!\n"
     ]
    }
   ],
   "source": [
    "inputfile = \"../../test_ham/In_SiC_soc.dat\"\n",
    "spin      = True\n",
    "n_elec    = 4\n",
    "\n",
    "Ham = hamiltonian(inputfile,N_ELEC=n_elec)"
   ]
  },
  {
   "cell_type": "code",
   "execution_count": 11,
   "metadata": {},
   "outputs": [
    {
     "name": "stdout",
     "output_type": "stream",
     "text": [
      "Hamiltonian is spin-less, cannot calculate Z_2 invariant\n",
      "n 2\n",
      "Calculating Z_2 invariant for Gamma-plane...\n",
      "Jump at pump:7\n",
      "Z_2=1\n",
      "Calculating Z_2 invariant for BZ-surface plane...\n",
      "Jump at pump:7\n",
      "Z_2=1\n"
     ]
    }
   ],
   "source": [
    "n_pump = np.array([10,10])\n",
    "normal = 3\n",
    "z2 = z2_wcc(Ham,n_pump,normal)"
   ]
  },
  {
   "cell_type": "code",
   "execution_count": 12,
   "metadata": {},
   "outputs": [
    {
     "data": {
      "image/png": "[encoded data removed]",
      "text/plain": [
       "<Figure size 1440x360 with 2 Axes>"
      ]
     },
     "metadata": {
      "needs_background": "light"
     },
     "output_type": "display_data"
    }
   ],
   "source": [
    "plot_wcc(z2.wcc,z2.gap)"
   ]
  },
  {
   "cell_type": "code",
   "execution_count": null,
   "metadata": {},
   "outputs": [],
   "source": [
    "print(z2.wcc[0])"
   ]
  },
  {
   "cell_type": "code",
   "execution_count": null,
   "metadata": {},
   "outputs": [],
   "source": []
  }
 ],
 "metadata": {
  "kernelspec": {
   "display_name": "Python 3",
   "language": "python",
   "name": "python3"
  },
  "language_info": {
   "codemirror_mode": {
    "name": "ipython",
    "version": 3
   },
   "file_extension": ".py",
   "mimetype": "text/x-python",
   "name": "python",
   "nbconvert_exporter": "python",
   "pygments_lexer": "ipython3",
   "version": "3.5.4"
  }
 },
 "nbformat": 4,
 "nbformat_minor": 2
}
