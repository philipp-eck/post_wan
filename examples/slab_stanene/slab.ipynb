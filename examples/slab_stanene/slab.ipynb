{
 "cells": [
  {
   "cell_type": "code",
   "execution_count": 1,
   "metadata": {},
   "outputs": [],
   "source": [
    "import numpy as np\n",
    "from hamiltonian import hamiltonian\n",
    "from super_cell import super_cell\n",
    "from k_space import k_space\n",
    "from observables import observables\n",
    "from observables import z2_wcc\n",
    "import matplotlib.pyplot as plt\n",
    "from copy import deepcopy"
   ]
  },
  {
   "cell_type": "markdown",
   "metadata": {},
   "source": [
    "# Import primitive bulk Hamiltonian"
   ]
  },
  {
   "cell_type": "code",
   "execution_count": 2,
   "metadata": {},
   "outputs": [
    {
     "name": "stdout",
     "output_type": "stream",
     "text": [
      "Reading Hamiltonian...\n",
      "Time for reading hr-file:  0.0414888858795166\n",
      "Hamiltonian from file ../../test_ham/stanene_pz_hr.dat successfully loaded.\n",
      "H(R) is spin-full and contains 67 R-vectors and 2 orbitals.\n"
     ]
    }
   ],
   "source": [
    "bra_vec   = np.array([[ 4.6410098,    0.0000000,    0.0000000],\n",
    "                      [-2.3205054,    4.0192321,    0.0000000],\n",
    "                      [ 0.0000000,    0.0000000,   40.0000000]])\n",
    "spin      = True\n",
    "basis     = np.array([0])\n",
    "n_elec    = 2\n",
    "ef        = -3.43705460\n",
    "inputfile = \"../../test_ham/stanene_pz_hr.dat\"\n",
    "Ham_bulk = hamiltonian(inputfile,bra_vec,spin,basis,ef,N_ELEC=n_elec)"
   ]
  },
  {
   "cell_type": "markdown",
   "metadata": {},
   "source": [
    "# Bulk band structure\n",
    "## k-path"
   ]
  },
  {
   "cell_type": "code",
   "execution_count": 3,
   "metadata": {},
   "outputs": [],
   "source": [
    "ktype     = \"path\"\n",
    "kbasis    = \"red\"\n",
    "vecs      = np.array([[   0, 1/2, 0],\n",
    "                      [ 1/3, 1/3, 0],\n",
    "                      [   0,   0, 0],\n",
    "                      [-1/3,-1/3, 0],\n",
    "                      [-1/2,   0, 0]])\n",
    "\n",
    "npoints   = 1000\n",
    "K_space_bulk = k_space(ktype,kbasis,vecs,Ham_bulk.bra_vec,npoints)"
   ]
  },
  {
   "cell_type": "markdown",
   "metadata": {},
   "source": [
    "## calculation"
   ]
  },
  {
   "cell_type": "code",
   "execution_count": 4,
   "metadata": {},
   "outputs": [
    {
     "name": "stdout",
     "output_type": "stream",
     "text": [
      "Initializing k-independent operator S.\n",
      "Initializing k-independent operator sub_latt.\n",
      "Creating empty operator \"sub_latt\".\n",
      "Inititalizing k-dependent operator Orb_SOC_inv.\n",
      "Inititalizing k-dependent operator BC.\n",
      "Calculating operators on the given k-space...\n",
      "Diagonalizing all k-points in parallel.\n",
      "Time for running H(k) FT: 0.01645803451538086\n",
      "Time for diagonalizing H(k): 0.013813972473144531\n",
      "Time for calculating expectation value of operator S: 0.003693819046020508\n",
      "Time for calculating expectation value of operator sub_latt: 0.00419306755065918\n",
      "Time for calculating expectation value of operator Orb_SOC_inv: 0.3550601005554199\n",
      "Time for calculating expectation value of operator BC: 0.06545186042785645\n",
      "Shifting eigenvalues by Fermi level...\n",
      "Running post-processing for operator S.\n",
      "Running post-processing for operator sub_latt.\n",
      "No post-processing.\n",
      "Running post-processing for operator Orb_SOC_inv.\n",
      "No post-processing.\n",
      "Running post-processing for operator BC.\n",
      "Writing eigenvalues output.\n",
      "Writing output for operator S.\n",
      "Writing output for operator sub_latt.\n",
      "Writing output for operator Orb_SOC_inv.\n",
      "Writing output for operator BC.\n",
      "Writing band-integrated output for operator BC.\n"
     ]
    },
    {
     "data": {
      "text/plain": [
       "dict_keys(['op_type', 'ham', 'f_spec', 'prec', 'val_k_int', 'post', 'val_b_int', 'val', 'op', 'expval'])"
      ]
     },
     "execution_count": 4,
     "metadata": {},
     "output_type": "execute_result"
    }
   ],
   "source": [
    "op_types = [\"S\",\"sub_latt\"]\n",
    "op_types_k = [\"Orb_SOC_inv\",\"BC\"]\n",
    "observables_bulk = observables(Ham_bulk,K_space_bulk,op_types,op_types_k,PREFIX=\"bulk_\")\n",
    "###Fill empty operaror sub_latt\n",
    "#print(observables_bulk.ops[\"S\"].op)\n",
    "op_sub_latt = np.zeros((3,4,4))\n",
    "op_sub_latt[0] = np.diag((1,0,1,0)) \n",
    "op_sub_latt[1] = np.diag((0,1,0,1))\n",
    "op_sub_latt[2] = np.diag((1,0,1,0)) - np.diag((0,1,0,1))\n",
    "observables_bulk.ops[\"sub_latt\"].op = op_sub_latt\n",
    "observables_bulk.calculate_ops()\n",
    "observables_bulk.__dict__.keys()\n",
    "observables_bulk.ops[\"S\"].__dict__.keys()\n",
    "#observables_bulk.ops[\"S\"].val"
   ]
  },
  {
   "cell_type": "code",
   "execution_count": 5,
   "metadata": {
    "scrolled": true
   },
   "outputs": [
    {
     "data": {
      "image/png": "[encoded data removed]",
      "text/plain": [
       "<Figure size 432x288 with 1 Axes>"
      ]
     },
     "metadata": {
      "needs_background": "light"
     },
     "output_type": "display_data"
    }
   ],
   "source": [
    "plt.plot(observables_bulk.k_space.k_dist,observables_bulk.evals)\n",
    "plt.show()"
   ]
  },
  {
   "cell_type": "markdown",
   "metadata": {},
   "source": [
    "# Adding a Semenoff mass - trivial Hamiltonian"
   ]
  },
  {
   "cell_type": "code",
   "execution_count": 6,
   "metadata": {},
   "outputs": [
    {
     "name": "stdout",
     "output_type": "stream",
     "text": [
      "-3.265 0.000 -0.658-0.000 -0.000 0.000  0.000-0.000 \n",
      "-0.658 0.000 -3.265 0.000  0.000 0.000  0.000-0.000 \n",
      "-0.000 0.000  0.000-0.000 -3.265 0.000 -0.658-0.000 \n",
      " 0.000 0.000  0.000 0.000 -0.658 0.000 -3.265 0.000 \n",
      "\n",
      "-3.163 0.000 -0.658-0.000 -0.000 0.000  0.000-0.000 \n",
      "-0.658 0.000 -3.367 0.000  0.000 0.000  0.000-0.000 \n",
      "-0.000 0.000  0.000-0.000 -3.163 0.000 -0.658-0.000 \n",
      " 0.000 0.000  0.000 0.000 -0.658 0.000 -3.367 0.000 \n",
      "\n"
     ]
    }
   ],
   "source": [
    "Ham_bulk_sem = deepcopy(Ham_bulk)\n",
    "m = 0.102\n",
    "semenoff_mass = m*np.diag((1,-1,1,-1))\n",
    "R=[0,0,0]\n",
    "Ham_bulk_sem.mod_H_R(R,semenoff_mass)\n",
    "Ham_bulk.get_H_R(R)\n",
    "print(\"\")\n",
    "Ham_bulk_sem.get_H_R(R)\n",
    "print(\"\")"
   ]
  },
  {
   "cell_type": "code",
   "execution_count": 7,
   "metadata": {},
   "outputs": [
    {
     "name": "stdout",
     "output_type": "stream",
     "text": [
      "Initializing k-independent operator S.\n",
      "Initializing k-independent operator sub_latt.\n",
      "Creating empty operator \"sub_latt\".\n",
      "Inititalizing k-dependent operator Orb_SOC_inv.\n",
      "Inititalizing k-dependent operator BC.\n",
      "Calculating operators on the given k-space...\n",
      "Diagonalizing all k-points in parallel.\n",
      "Time for running H(k) FT: 0.023771047592163086\n",
      "Time for diagonalizing H(k): 0.02336907386779785\n",
      "Time for calculating expectation value of operator S: 0.006371021270751953\n",
      "Time for calculating expectation value of operator sub_latt: 0.006190776824951172\n",
      "Time for calculating expectation value of operator Orb_SOC_inv: 0.34701108932495117\n",
      "Time for calculating expectation value of operator BC: 0.04239702224731445\n",
      "Shifting eigenvalues by Fermi level...\n",
      "Running post-processing for operator S.\n",
      "Running post-processing for operator sub_latt.\n",
      "No post-processing.\n",
      "Running post-processing for operator Orb_SOC_inv.\n",
      "No post-processing.\n",
      "Running post-processing for operator BC.\n",
      "Writing eigenvalues output.\n",
      "Writing output for operator S.\n",
      "Writing output for operator sub_latt.\n",
      "Writing output for operator Orb_SOC_inv.\n",
      "Writing output for operator BC.\n",
      "Writing band-integrated output for operator BC.\n"
     ]
    }
   ],
   "source": [
    "observables_bulk_sem = observables(Ham_bulk_sem,K_space_bulk,op_types,op_types_k,PREFIX=\"bulk_sem_\")\n",
    "observables_bulk_sem.ops[\"sub_latt\"].op = op_sub_latt\n",
    "observables_bulk_sem.calculate_ops()\n"
   ]
  },
  {
   "cell_type": "markdown",
   "metadata": {},
   "source": [
    "# $Z_2$-invariant, WCC calculation"
   ]
  },
  {
   "cell_type": "markdown",
   "metadata": {},
   "source": [
    "## Bulk Hamiltonian"
   ]
  },
  {
   "cell_type": "code",
   "execution_count": 8,
   "metadata": {},
   "outputs": [
    {
     "name": "stdout",
     "output_type": "stream",
     "text": [
      "Calculating Z_2 invariant for Gamma-plane...\n",
      "Jump at pump:69\n",
      "Z_2=1\n",
      "Calculating Z_2 invariant for BZ-surface plane...\n",
      "Jump at pump:69\n",
      "Z_2=1\n"
     ]
    },
    {
     "data": {
      "image/png": "[encoded data removed]",
      "text/plain": [
       "<Figure size 1440x360 with 2 Axes>"
      ]
     },
     "metadata": {
      "needs_background": "light"
     },
     "output_type": "display_data"
    }
   ],
   "source": [
    "n_pump = np.array([100,10])\n",
    "normal = 3\n",
    "z2 = z2_wcc(Ham_bulk,n_pump,normal)\n",
    "z2.plot_wcc()"
   ]
  },
  {
   "cell_type": "markdown",
   "metadata": {},
   "source": [
    "## Influence of Semenoff mass"
   ]
  },
  {
   "cell_type": "code",
   "execution_count": 9,
   "metadata": {},
   "outputs": [
    {
     "name": "stdout",
     "output_type": "stream",
     "text": [
      "Calculating Z_2 invariant for Gamma-plane...\n",
      "Z_2=0\n",
      "Calculating Z_2 invariant for BZ-surface plane...\n",
      "Z_2=0\n"
     ]
    },
    {
     "data": {
      "image/png": "[encoded data removed]",
      "text/plain": [
       "<Figure size 1440x360 with 2 Axes>"
      ]
     },
     "metadata": {
      "needs_background": "light"
     },
     "output_type": "display_data"
    }
   ],
   "source": [
    "n_pump = np.array([100,10])\n",
    "normal = 3\n",
    "z2_sem = z2_wcc(Ham_bulk_sem,n_pump,normal)\n",
    "z2_sem.plot_wcc()"
   ]
  },
  {
   "cell_type": "markdown",
   "metadata": {},
   "source": [
    "## Create super-cell"
   ]
  },
  {
   "cell_type": "code",
   "execution_count": 10,
   "metadata": {},
   "outputs": [],
   "source": [
    "sup_vec = np.array([[ 1, 0, 0],\n",
    "                    [ 1, 2, 0],\n",
    "                    [ 0, 0, 1]])\n",
    "Ham_super_cell = super_cell(Ham_bulk,sup_vec)"
   ]
  },
  {
   "cell_type": "markdown",
   "metadata": {},
   "source": [
    "# Test k-path"
   ]
  },
  {
   "cell_type": "code",
   "execution_count": 11,
   "metadata": {},
   "outputs": [],
   "source": [
    "ktype     = \"self-defined\"\n",
    "kbasis    = \"car\"\n",
    "K_space_sup = k_space(ktype,kbasis,K_space_bulk.k_space_car,Ham_super_cell.bra_vec,npoints)"
   ]
  },
  {
   "cell_type": "markdown",
   "metadata": {},
   "source": [
    "# Test band structure"
   ]
  },
  {
   "cell_type": "code",
   "execution_count": 12,
   "metadata": {},
   "outputs": [
    {
     "name": "stdout",
     "output_type": "stream",
     "text": [
      "Initializing k-independent operator S.\n",
      "Calculating operators on the given k-space...\n",
      "Diagonalizing all k-points in parallel.\n",
      "Hamiltonian is hermitian?: True\n",
      "Time for running H(k) FT: 0.03210306167602539\n",
      "Time for diagonalizing H(k): 0.0652458667755127\n",
      "Time for calculating expectation value of operator S: 0.01879715919494629\n",
      "Shifting eigenvalues by Fermi level...\n",
      "Running post-processing for operator S.\n",
      "Writing eigenvalues output.\n",
      "Writing output for operator S.\n"
     ]
    }
   ],
   "source": [
    "# Initializing observables\n",
    "op_types = [\"S\"]\n",
    "Observables_sup_cell = observables(Ham_super_cell,K_space_sup,op_types,PREFIX=\"sup_\")\n",
    "Observables_sup_cell.calculate_ops()"
   ]
  },
  {
   "cell_type": "markdown",
   "metadata": {},
   "source": [
    "# Slab calculation, PBC along $x$"
   ]
  },
  {
   "cell_type": "code",
   "execution_count": 13,
   "metadata": {},
   "outputs": [
    {
     "data": {
      "text/plain": [
       "array([[ 4.64100980e+00,  0.00000000e+00,  0.00000000e+00],\n",
       "       [-1.50000000e-05,  1.20576963e+02,  0.00000000e+00],\n",
       "       [ 0.00000000e+00,  0.00000000e+00,  4.00000000e+01]])"
      ]
     },
     "execution_count": 13,
     "metadata": {},
     "output_type": "execute_result"
    }
   ],
   "source": [
    "N_slab = 15\n",
    "sup_vec = np.array([[ 1, 0, 0],\n",
    "                    [ 1, 2, 0],\n",
    "                    [ 0, 0, 1]])\n",
    "sup_vec[1] *= N_slab\n",
    "Ham_slab_x = super_cell(Ham_bulk,sup_vec,1)\n",
    "Ham_slab_x.bra_vec"
   ]
  },
  {
   "cell_type": "code",
   "execution_count": 14,
   "metadata": {},
   "outputs": [],
   "source": [
    "ktype     = \"path\"\n",
    "kbasis    = \"red\"\n",
    "vecs      = np.array([[ -1, 0, 0],\n",
    "                      [  1, 0, 0]])\n",
    "\n",
    "npoints   = 500\n",
    "\n",
    "K_space_slab_x      = k_space(ktype,kbasis,vecs,Ham_slab_x.bra_vec,npoints)"
   ]
  },
  {
   "cell_type": "code",
   "execution_count": 15,
   "metadata": {},
   "outputs": [
    {
     "name": "stdout",
     "output_type": "stream",
     "text": [
      "Initializing k-independent operator S.\n",
      "Inititalizing k-dependent operator BC.\n",
      "Calculating operators on the given k-space...\n",
      "Diagonalizing all k-points in parallel.\n",
      "Hamiltonian is hermitian?: True\n",
      "Time for running H(k) FT: 0.4139859676361084\n",
      "Time for diagonalizing H(k): 1.216796875\n",
      "Time for calculating expectation value of operator S: 0.7117090225219727\n",
      "Time for calculating expectation value of operator BC: 21.4768009185791\n",
      "Shifting eigenvalues by Fermi level...\n",
      "Running post-processing for operator S.\n",
      "Running post-processing for operator BC.\n",
      "Writing eigenvalues output.\n",
      "Writing output for operator S.\n",
      "Writing output for operator BC.\n",
      "Writing band-integrated output for operator BC.\n"
     ]
    }
   ],
   "source": [
    "op_types = [\"S\"]\n",
    "op_types_k = [\"BC\"]\n",
    "Observables_slab_x = observables(Ham_slab_x,K_space_slab_x,op_types,op_types_k,PREFIX=\"slab_x_\")\n",
    "Observables_slab_x.calculate_ops()"
   ]
  },
  {
   "cell_type": "code",
   "execution_count": null,
   "metadata": {},
   "outputs": [],
   "source": []
  }
 ],
 "metadata": {
  "kernelspec": {
   "display_name": "Python 3",
   "language": "python",
   "name": "python3"
  },
  "language_info": {
   "codemirror_mode": {
    "name": "ipython",
    "version": 3
   },
   "file_extension": ".py",
   "mimetype": "text/x-python",
   "name": "python",
   "nbconvert_exporter": "python",
   "pygments_lexer": "ipython3",
   "version": "3.5.4"
  }
 },
 "nbformat": 4,
 "nbformat_minor": 2
}
