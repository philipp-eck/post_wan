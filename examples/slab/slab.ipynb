{
 "cells": [
  {
   "cell_type": "code",
   "execution_count": 1,
   "metadata": {},
   "outputs": [],
   "source": [
    "import numpy as np\n",
    "from hamiltonian import hamiltonian\n",
    "from super_cell import super_cell\n",
    "from k_space import k_space\n",
    "from observables import observables\n",
    "from slab import slab"
   ]
  },
  {
   "cell_type": "markdown",
   "metadata": {},
   "source": [
    "# Import primitive bulk Hamiltonian"
   ]
  },
  {
   "cell_type": "code",
   "execution_count": 2,
   "metadata": {},
   "outputs": [
    {
     "name": "stdout",
     "output_type": "stream",
     "text": [
      "Reading Hamiltonian...\n",
      "Time for reading hr-file:  0.0825958251953125\n",
      "Hamiltonian from file ../../test_ham/In_SiC_soc.dat successfully loaded.\n",
      "H(R) is spin-full and contains 149 R-vectors and 4 orbitals.\n"
     ]
    }
   ],
   "source": [
    "bra_vec   = np.array([[ 3.0730000,    0.0000000,    0.0000000],\n",
    "                      [-1.5365000,    2.6612960,    0.0000000],\n",
    "                      [ 0.0000000,    0.0000000,   20.0000000]])\n",
    "spin      = True\n",
    "basis     = np.array([0,1])\n",
    "n_elec    = 4\n",
    "inputfile = \"../../test_ham/In_SiC_soc.dat\"\n",
    "Ham_bulk = hamiltonian(inputfile,bra_vec,spin,basis,N_ELEC=n_elec)"
   ]
  },
  {
   "cell_type": "markdown",
   "metadata": {},
   "source": [
    "# Create super-cell"
   ]
  },
  {
   "cell_type": "code",
   "execution_count": 3,
   "metadata": {},
   "outputs": [
    {
     "name": "stdout",
     "output_type": "stream",
     "text": [
      "n_orb 8\n"
     ]
    }
   ],
   "source": [
    "sup_vec = np.array([[ 1, 0, 0],\n",
    "                    [ 1, 2, 0],\n",
    "                    [ 0, 0, 1]])\n",
    "Ham_super_cell = super_cell(Ham_bulk,sup_vec)"
   ]
  },
  {
   "cell_type": "markdown",
   "metadata": {},
   "source": [
    "# Test k-path"
   ]
  },
  {
   "cell_type": "code",
   "execution_count": 4,
   "metadata": {},
   "outputs": [],
   "source": [
    "ktype     = \"path\"\n",
    "kbasis    = \"car\"\n",
    "vecs1      = np.array([[ 0, 0, 0],\n",
    "                      [ 2, 0, 0],\n",
    "                      [ 3, 3, 0]])\n",
    "vecs2      = np.array([[ -2, 0, 0],\n",
    "                      [  2, 0, 0]])\n",
    "\n",
    "vecs      = np.array([[ -2,-2, 0],\n",
    "                      [  2, 2, 0]])\n",
    "\n",
    "npoints   = 100\n",
    "\n",
    "K_space_prim = k_space(ktype,kbasis,vecs,Ham_bulk.bra_vec,npoints)\n",
    "K_space_sup  = k_space(ktype,kbasis,vecs,Ham_super_cell.bra_vec,npoints)"
   ]
  },
  {
   "cell_type": "markdown",
   "metadata": {},
   "source": [
    "# Test band structure"
   ]
  },
  {
   "cell_type": "code",
   "execution_count": 5,
   "metadata": {},
   "outputs": [
    {
     "name": "stdout",
     "output_type": "stream",
     "text": [
      "Initializing k-independent operator S.\n",
      "Initializing k-independent operator L.\n",
      "Calculating operators on the given k-space...\n",
      "Diagonalizing all k-points in parallel.\n",
      "Time for running H(k) FT: 0.0022699832916259766\n",
      "Time for diagonalizing H(k): 0.002176046371459961\n",
      "Time for calculating expectation value of operator S: 0.0010190010070800781\n",
      "Time for calculating expectation value of operator L: 0.0016391277313232422\n",
      "Running post-processing for operator S.\n",
      "Running post-processing for operator L.\n",
      "Writing eigenvalues output.\n",
      "Writing output for operator S.\n",
      "Writing output for operator L.\n",
      "Initializing k-independent operator S.\n",
      "Initializing k-independent operator L.\n",
      "Calculating operators on the given k-space...\n",
      "Diagonalizing all k-points in parallel.\n",
      "Hamiltonian is hermitian?: True\n",
      "Time for running H(k) FT: 0.005583047866821289\n",
      "Time for diagonalizing H(k): 0.00787496566772461\n",
      "Time for calculating expectation value of operator S: 0.0019669532775878906\n",
      "Time for calculating expectation value of operator L: 0.0013649463653564453\n",
      "Running post-processing for operator S.\n",
      "Running post-processing for operator L.\n",
      "Writing eigenvalues output.\n",
      "Writing output for operator S.\n",
      "Writing output for operator L.\n"
     ]
    }
   ],
   "source": [
    "# Initializing observables\n",
    "op_types = [\"S\",\"L\"]\n",
    "Observables_prim = observables(Ham_bulk,K_space_prim,op_types,PREFIX=\"prim_\")\n",
    "Observables_prim.calculate_ops()\n",
    "Observables_prim = observables(Ham_super_cell,K_space_sup,op_types,PREFIX=\"sup_\")\n",
    "Observables_prim.calculate_ops()"
   ]
  },
  {
   "cell_type": "markdown",
   "metadata": {},
   "source": [
    "# Slab calculation, PBC along $x$"
   ]
  },
  {
   "cell_type": "code",
   "execution_count": 6,
   "metadata": {},
   "outputs": [
    {
     "name": "stdout",
     "output_type": "stream",
     "text": [
      "n_orb 120\n"
     ]
    }
   ],
   "source": [
    "N_slab = 15\n",
    "sup_vec = np.array([[ 1, 0, 0],\n",
    "                    [ 1, 2, 0],\n",
    "                    [ 0, 0, 1]])\n",
    "sup_vec[1] *= N_slab\n",
    "Ham_slab_x = super_cell(Ham_bulk,sup_vec,1)"
   ]
  },
  {
   "cell_type": "code",
   "execution_count": 7,
   "metadata": {},
   "outputs": [],
   "source": [
    "ktype     = \"path\"\n",
    "kbasis    = \"car\"\n",
    "vecs      = np.array([[ -2, 0, 0],\n",
    "                      [  2, 0, 0]])\n",
    "\n",
    "npoints   = 500\n",
    "\n",
    "K_space_slab_x      = k_space(ktype,kbasis,vecs,Ham_slab_x.bra_vec,npoints)\n",
    "K_space_slab_x_prim = k_space(ktype,kbasis,vecs,Ham_bulk.bra_vec,npoints)\n",
    "K_space_slab_x_sup  = k_space(ktype,kbasis,vecs,Ham_super_cell.bra_vec,npoints)"
   ]
  },
  {
   "cell_type": "code",
   "execution_count": 8,
   "metadata": {},
   "outputs": [
    {
     "name": "stdout",
     "output_type": "stream",
     "text": [
      "Initializing k-independent operator S.\n",
      "Initializing k-independent operator L.\n",
      "Calculating operators on the given k-space...\n",
      "Diagonalizing all k-points in parallel.\n",
      "Hamiltonian is hermitian?: True\n",
      "Time for running H(k) FT: 2.20963716506958\n",
      "Time for diagonalizing H(k): 6.4266111850738525\n",
      "Time for calculating expectation value of operator S: 4.208778142929077\n",
      "Time for calculating expectation value of operator L: 4.058600902557373\n",
      "Running post-processing for operator S.\n",
      "Running post-processing for operator L.\n",
      "Writing eigenvalues output.\n",
      "Writing output for operator S.\n",
      "Writing output for operator L.\n",
      "Initializing k-independent operator S.\n",
      "Initializing k-independent operator L.\n",
      "Calculating operators on the given k-space...\n",
      "Diagonalizing all k-points in parallel.\n",
      "Time for running H(k) FT: 0.0038590431213378906\n",
      "Time for diagonalizing H(k): 0.007467031478881836\n",
      "Time for calculating expectation value of operator S: 0.003966093063354492\n",
      "Time for calculating expectation value of operator L: 0.004214048385620117\n",
      "Running post-processing for operator S.\n",
      "Running post-processing for operator L.\n",
      "Writing eigenvalues output.\n",
      "Writing output for operator S.\n",
      "Writing output for operator L.\n",
      "Initializing k-independent operator S.\n",
      "Initializing k-independent operator L.\n",
      "Calculating operators on the given k-space...\n",
      "Diagonalizing all k-points in parallel.\n",
      "Hamiltonian is hermitian?: True\n",
      "Time for running H(k) FT: 0.012382984161376953\n",
      "Time for diagonalizing H(k): 0.030550003051757812\n",
      "Time for calculating expectation value of operator S: 0.008035898208618164\n",
      "Time for calculating expectation value of operator L: 0.006860971450805664\n",
      "Running post-processing for operator S.\n",
      "Running post-processing for operator L.\n",
      "Writing eigenvalues output.\n",
      "Writing output for operator S.\n",
      "Writing output for operator L.\n"
     ]
    }
   ],
   "source": [
    "op_types = [\"S\",\"L\"]\n",
    "Observables_slab_x = observables(Ham_slab_x,K_space_slab_x,op_types,PREFIX=\"slab_x_\")\n",
    "Observables_slab_x.calculate_ops()\n",
    "Observables_slab_prim = observables(Ham_bulk,K_space_slab_x_prim,op_types,PREFIX=\"slab_prim_\")\n",
    "Observables_slab_prim.calculate_ops()\n",
    "Observables_slab_sup = observables(Ham_super_cell,K_space_slab_x_sup,op_types,PREFIX=\"slab_sup_\")\n",
    "Observables_slab_sup.calculate_ops()"
   ]
  },
  {
   "cell_type": "code",
   "execution_count": 9,
   "metadata": {},
   "outputs": [
    {
     "data": {
      "text/plain": [
       "array([[0, 1, 0, 0],\n",
       "       [0, 0, 1, 0],\n",
       "       [0, 0, 0, 1],\n",
       "       [0, 0, 0, 0]])"
      ]
     },
     "execution_count": 9,
     "metadata": {},
     "output_type": "execute_result"
    }
   ],
   "source": [
    "a=-3\n",
    "diag = np.diag([1,1,1,0])\n",
    "mat=np.roll(diag,5,axis=1)\n",
    "#mat[:,:a]=0\n",
    "mat"
   ]
  },
  {
   "cell_type": "code",
   "execution_count": 10,
   "metadata": {},
   "outputs": [
    {
     "data": {
      "text/plain": [
       "array([[1., 0., 0., 0., 0., 0.],\n",
       "       [0., 1., 0., 0., 0., 0.],\n",
       "       [0., 0., 1., 0., 0., 0.],\n",
       "       [0., 0., 0., 1., 0., 0.],\n",
       "       [0., 0., 0., 0., 1., 0.],\n",
       "       [0., 0., 0., 0., 0., 1.]])"
      ]
     },
     "execution_count": 10,
     "metadata": {},
     "output_type": "execute_result"
    }
   ],
   "source": [
    "np.eye(6)"
   ]
  },
  {
   "cell_type": "code",
   "execution_count": 11,
   "metadata": {},
   "outputs": [
    {
     "data": {
      "text/plain": [
       "3.0"
      ]
     },
     "execution_count": 11,
     "metadata": {},
     "output_type": "execute_result"
    }
   ],
   "source": [
    "np.floor(3.5)"
   ]
  },
  {
   "cell_type": "code",
   "execution_count": 12,
   "metadata": {},
   "outputs": [
    {
     "data": {
      "text/plain": [
       "-1"
      ]
     },
     "execution_count": 12,
     "metadata": {},
     "output_type": "execute_result"
    }
   ],
   "source": [
    "int(np.floor(-0.5))"
   ]
  },
  {
   "cell_type": "code",
   "execution_count": 13,
   "metadata": {},
   "outputs": [
    {
     "data": {
      "text/plain": [
       "array([[1., 0., 0.],\n",
       "       [0., 1., 0.],\n",
       "       [0., 0., 1.]])"
      ]
     },
     "execution_count": 13,
     "metadata": {},
     "output_type": "execute_result"
    }
   ],
   "source": [
    "np.eye(3)"
   ]
  }
 ],
 "metadata": {
  "kernelspec": {
   "display_name": "Python 3",
   "language": "python",
   "name": "python3"
  },
  "language_info": {
   "codemirror_mode": {
    "name": "ipython",
    "version": 3
   },
   "file_extension": ".py",
   "mimetype": "text/x-python",
   "name": "python",
   "nbconvert_exporter": "python",
   "pygments_lexer": "ipython3",
   "version": "3.5.4"
  }
 },
 "nbformat": 4,
 "nbformat_minor": 2
}
