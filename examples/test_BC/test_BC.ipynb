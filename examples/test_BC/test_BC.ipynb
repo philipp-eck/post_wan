{
 "cells": [
  {
   "cell_type": "code",
   "execution_count": 1,
   "metadata": {},
   "outputs": [],
   "source": [
    "import numpy as np\n",
    "from observables import observables\n",
    "from k_space import k_space\n"
   ]
  },
  {
   "cell_type": "markdown",
   "metadata": {},
   "source": [
    "# Minimal p-Hamiltonian\n",
    "$p_z,p_x,p_y$-Hamiltonian, with Dirac point in the $p_x,p_y$ bands, gapped by $L_z$\n",
    "\\begin{aligned}\n",
    "    H = E_{p_z} + k_x \\cdot s_x + k_y \\cdot s_z + \\lambda \\cdot s_y\n",
    "\\end{aligned}"
   ]
  },
  {
   "cell_type": "code",
   "execution_count": 5,
   "metadata": {},
   "outputs": [],
   "source": [
    "s = np.zeros((4,2,2),dtype=complex)\n",
    "s[0] = np.eye(2)\n",
    "s[1] = np.array([[0,1],[1,0]])\n",
    "s[2] = 1j*np.array([[0,-1],[1,0]])\n",
    "s[3] = np.array([[1,0],[0,-1]])\n",
    "\n",
    "class dirac_ham:\n",
    "    def __init__(self,L):\n",
    "                \n",
    "        self.l      = L\n",
    "        self.E_pz   = -10\n",
    "        self.bra_vec= np.array([[1,0,0],[0,1,0],[0,0,1]])\n",
    "        self.basis  = np.array([1])\n",
    "        self.ef     = 0\n",
    "        self.n_elec = 2\n",
    "        self.spin   = False\n",
    "        self.n_orb  = 3\n",
    "        self.n_bands= 3\n",
    "        self.ctype  = np.csingle\n",
    "\n",
    "    def hk(self,k_red):\n",
    "        d = np.zeros((k_red.shape[0],4))\n",
    "        d[:,1] = k_red[:,0]\n",
    "        d[:,3] = k_red[:,1]\n",
    "        d[:,2] = self.l\n",
    "        hk_out = np.zeros((k_red.shape[0],3,3),dtype=complex)\n",
    "        hk_out[:,0,0] = self.E_pz\n",
    "        hk_out[:,1:,1:] = np.einsum('ij,jkl->ikl',d,s)\n",
    "        return hk_out\n",
    "        \n",
    "    def del_hk(self,k_red):\n",
    "        d = np.zeros((k_red.shape[0],3,4))\n",
    "        d[:,0,1] = 1\n",
    "        d[:,1,3] = 1\n",
    "        del_hk_out = np.zeros((k_red.shape[0],3,3,3),dtype=complex)\n",
    "        del_hk_out[:,:,1:,1:] = np.einsum('idj,jkl->idkl',d,s)\n",
    "        return del_hk_out\n",
    "\n",
    "\n",
    "\n"
   ]
  },
  {
   "cell_type": "code",
   "execution_count": 6,
   "metadata": {},
   "outputs": [],
   "source": [
    "ktype  = \"path\"\n",
    "kbasis = \"red\"\n",
    "vecs   = np.array([[-1,0,0],[1,0,0]])\n",
    "npoints = 101\n",
    "bra_vec = np.array([[1,0,0],[0,1,0],[0,0,1]])\n",
    "\n",
    "K_space = k_space(ktype,kbasis,vecs,bra_vec,npoints)"
   ]
  },
  {
   "cell_type": "code",
   "execution_count": 7,
   "metadata": {},
   "outputs": [
    {
     "name": "stdout",
     "output_type": "stream",
     "text": [
      "Initializing k-independent operator L.\n",
      "Inititalizing k-dependent operator BC.\n",
      "Inititalizing k-dependent operator BC_L.\n",
      "Calculating operators on the given k-space...\n",
      "Diagonalizing all k-points in parallel.\n",
      "Time for running H(k) FT: 9.083747863769531e-05\n",
      "Time for diagonalizing H(k): 0.0003409385681152344\n",
      "Time for calculating expectation value of operator L: 0.0029840469360351562\n",
      "Time for calculating expectation value of operator BC: 0.0014119148254394531\n",
      "Time for calculating expectation value of operator BC_L: 0.01288914680480957\n",
      "Shifting eigenvalues w.r.t. Fermi level...\n",
      "Running post-processing for operator L.\n",
      "Running post-processing for operator BC.\n",
      "Running post-processing for operator BC_L.\n",
      "Writing eigenvalues output.\n",
      "Writing output for operator L.\n",
      "Writing output for operator BC.\n",
      "Writing output for operator BC_L.\n",
      "Writing band-integrated output for operator BC.\n",
      "Writing band-integrated output for operator BC_L.\n"
     ]
    }
   ],
   "source": [
    "l=0.2\n",
    "ham = dirac_ham(l)\n",
    "op_types = [\"L\"]\n",
    "op_types_k = [\"BC\",\"BC_L\"]\n",
    "Observables = observables(ham,K_space,op_types,op_types_k)\n",
    "Observables.calculate_ops()"
   ]
  },
  {
   "cell_type": "markdown",
   "metadata": {},
   "source": [
    "# Calculate the coupling strength to optical fields\n",
    "Here we follow the approach given in https://journals.aps.org/prl/pdf/10.1103/PhysRevLett.108.196802 given by\n",
    "\\begin{aligned}\n",
    "P_\\alpha(k)=\\langle u_c(k) |\\frac{dH}{dk_\\alpha}| u_v(k)\\rangle\n",
    "\\end{aligned}"
   ]
  },
  {
   "cell_type": "code",
   "execution_count": 8,
   "metadata": {},
   "outputs": [
    {
     "name": "stdout",
     "output_type": "stream",
     "text": [
      "[-10.   -0.2   0.2]\n",
      "(3, 3)\n",
      "[0.-1.j 1.+0.j 0.+0.j]\n"
     ]
    }
   ],
   "source": [
    "ham = dirac_ham(l)\n",
    "k = np.zeros((1,3))\n",
    "evals,evecs = np.linalg.eigh(ham.hk(k)[0])\n",
    "print(evals)\n",
    "h_del_k = ham.del_hk(k)[0]\n",
    "print(evecs.shape)\n",
    "p = np.einsum(\"j,xjk,k->x\",evecs[:,2].conjugate(),h_del_k,evecs[:,1])\n",
    "print(p)"
   ]
  },
  {
   "cell_type": "markdown",
   "metadata": {},
   "source": [
    "# Calculation of the $z$-component of the valence BC by hand at k=0"
   ]
  },
  {
   "cell_type": "code",
   "execution_count": 10,
   "metadata": {},
   "outputs": [
    {
     "name": "stdout",
     "output_type": "stream",
     "text": [
      "Valence band Berry curvature: (-12.499999999999993+0j)\n"
     ]
    }
   ],
   "source": [
    "k = np.array([[0,0,0]])\n",
    "hk = ham.hk(k)\n",
    "evals,evecs = np.linalg.eigh(hk)\n",
    "\n",
    "#valene and conduction eigenvectors\n",
    "v = evecs[:,1:,1]\n",
    "c = evecs[:,1:,2]\n",
    "# z-componend of the valence state\n",
    "vsxc = np.einsum(\"i,i\",v.conjugate()[0],np.einsum(\"ij,j\",s[1],c[0]))\n",
    "cszv = np.einsum(\"i,i\",c.conjugate()[0],np.einsum(\"ij,j\",s[3],v[0]))\n",
    "\n",
    "omega_z = 2*1j *vsxc*cszv/(evals[0,1]-evals[0,2])**2\n",
    "print(\"Valence band Berry curvature:\",omega_z)"
   ]
  },
  {
   "cell_type": "markdown",
   "metadata": {},
   "source": [
    "# Minimal p-Hamiltonian\n",
    "two band Hamiltonian, 3D\n",
    "\\begin{aligned}\n",
    "    H = \\vec{k}\\cdot\\vec{S}\n",
    "\\end{aligned}"
   ]
  },
  {
   "cell_type": "code",
   "execution_count": 11,
   "metadata": {},
   "outputs": [],
   "source": [
    "class dirac_ham_3d:\n",
    "    def __init__(self,SPIN):\n",
    "                \n",
    "        self.bra_vec= np.array([[1,0,0],[0,1,0],[0,0,1]])\n",
    "        self.basis  = np.array([0,0])\n",
    "        self.ef     = 0\n",
    "        self.n_elec = 2\n",
    "        self.spin   = SPIN\n",
    "        self.n_orb  = 2\n",
    "        self.n_bands= 2\n",
    "\n",
    "    def hk(self,k_red):\n",
    "        d = np.zeros((k_red.shape[0],4))\n",
    "        d[:,1] = k_red[:,0]\n",
    "        d[:,2] = k_red[:,1]\n",
    "        d[:,3] = k_red[:,2]\n",
    "        hk_out = np.zeros((k_red.shape[0],self.n_orb,self.n_orb),dtype=complex)\n",
    "        hk_out = np.einsum('ks,sij->kij',d,s)\n",
    "        return hk_out\n",
    "        \n",
    "    def del_hk(self,k_red):\n",
    "        d = np.zeros((k_red.shape[0],3,4))\n",
    "        d[:,0,1] = 1\n",
    "        d[:,1,2] = 1\n",
    "        d[:,2,3] = 1\n",
    "        del_hk_out = np.zeros((k_red.shape[0],3,self.n_orb,self.n_orb),dtype=complex)\n",
    "        del_hk_out = np.einsum('kds,sij->kdij',d,s)\n",
    "        return del_hk_out"
   ]
  },
  {
   "cell_type": "code",
   "execution_count": 12,
   "metadata": {},
   "outputs": [],
   "source": [
    "ktype  = \"plane\"\n",
    "kbasis = \"red\"\n",
    "vecs   = np.array([[0,0,0],[1,0,0],[0,1,0]])\n",
    "npoints = 101\n",
    "bra_vec = np.array([[1,0,0],[0,1,0],[0,0,1]])\n",
    "\n",
    "K_space_map = k_space(ktype,kbasis,vecs,bra_vec,npoints)\n",
    "\n",
    "ktype  = \"sphere\"\n",
    "kbasis = \"car\"\n",
    "vecs   = np.array([[0,0,0]])\n",
    "npoints = 10\n",
    "r       = 0.1\n",
    "bra_vec = np.array([[1,0,0],[0,1,0],[0,0,1]])\n",
    "\n",
    "K_space_sphere = k_space(ktype,kbasis,vecs,bra_vec,npoints,r)\n"
   ]
  },
  {
   "cell_type": "code",
   "execution_count": 13,
   "metadata": {},
   "outputs": [
    {
     "name": "stdout",
     "output_type": "stream",
     "text": [
      "Inititalizing k-dependent operator BC.\n",
      "Calculating operators on the given k-space...\n"
     ]
    },
    {
     "ename": "AttributeError",
     "evalue": "'dirac_ham_3d' object has no attribute 'ctype'",
     "output_type": "error",
     "traceback": [
      "\u001b[0;31m---------------------------------------------------------------------------\u001b[0m",
      "\u001b[0;31mAttributeError\u001b[0m                            Traceback (most recent call last)",
      "\u001b[0;32m<ipython-input-13-14a965d6476e>\u001b[0m in \u001b[0;36m<module>\u001b[0;34m\u001b[0m\n\u001b[1;32m      4\u001b[0m \u001b[0mop_types_k\u001b[0m \u001b[0;34m=\u001b[0m \u001b[0;34m[\u001b[0m\u001b[0;34m\"BC\"\u001b[0m\u001b[0;34m]\u001b[0m\u001b[0;34m\u001b[0m\u001b[0m\n\u001b[1;32m      5\u001b[0m \u001b[0mObservables\u001b[0m \u001b[0;34m=\u001b[0m \u001b[0mobservables\u001b[0m\u001b[0;34m(\u001b[0m\u001b[0mham\u001b[0m\u001b[0;34m,\u001b[0m\u001b[0mK_space_sphere\u001b[0m\u001b[0;34m,\u001b[0m\u001b[0mop_types\u001b[0m\u001b[0;34m,\u001b[0m\u001b[0mop_types_k\u001b[0m\u001b[0;34m,\u001b[0m\u001b[0mPREFIX\u001b[0m\u001b[0;34m=\u001b[0m\u001b[0;34m\"2band_\"\u001b[0m\u001b[0;34m)\u001b[0m\u001b[0;34m\u001b[0m\u001b[0m\n\u001b[0;32m----> 6\u001b[0;31m \u001b[0mObservables\u001b[0m\u001b[0;34m.\u001b[0m\u001b[0mcalculate_ops\u001b[0m\u001b[0;34m(\u001b[0m\u001b[0mwrite\u001b[0m\u001b[0;34m=\u001b[0m\u001b[0;32mFalse\u001b[0m\u001b[0;34m)\u001b[0m\u001b[0;34m\u001b[0m\u001b[0m\n\u001b[0m\u001b[1;32m      7\u001b[0m \u001b[0;31m### Integrate the BC\u001b[0m\u001b[0;34m\u001b[0m\u001b[0;34m\u001b[0m\u001b[0m\n\u001b[1;32m      8\u001b[0m \u001b[0mBC\u001b[0m \u001b[0;34m=\u001b[0m \u001b[0mObservables\u001b[0m\u001b[0;34m.\u001b[0m\u001b[0mops\u001b[0m\u001b[0;34m[\u001b[0m\u001b[0;34m\"BC\"\u001b[0m\u001b[0;34m]\u001b[0m\u001b[0;34m.\u001b[0m\u001b[0mval\u001b[0m\u001b[0;34m\u001b[0m\u001b[0m\n",
      "\u001b[0;32m~/Work/post_wan/observables.py\u001b[0m in \u001b[0;36mcalculate_ops\u001b[0;34m(self, write, all_k, post, bmin, bmax)\u001b[0m\n\u001b[1;32m     99\u001b[0m                                                             self.ham.n_bands)\n\u001b[1;32m    100\u001b[0m         \u001b[0mself\u001b[0m\u001b[0;34m.\u001b[0m\u001b[0mevals\u001b[0m \u001b[0;34m=\u001b[0m \u001b[0mnp\u001b[0m\u001b[0;34m.\u001b[0m\u001b[0mzeros\u001b[0m\u001b[0;34m(\u001b[0m\u001b[0mshape_eval\u001b[0m\u001b[0;34m)\u001b[0m\u001b[0;34m\u001b[0m\u001b[0m\n\u001b[0;32m--> 101\u001b[0;31m         \u001b[0mself\u001b[0m\u001b[0;34m.\u001b[0m\u001b[0mevecs\u001b[0m \u001b[0;34m=\u001b[0m \u001b[0mnp\u001b[0m\u001b[0;34m.\u001b[0m\u001b[0mzeros\u001b[0m\u001b[0;34m(\u001b[0m\u001b[0mshape_evec\u001b[0m\u001b[0;34m,\u001b[0m\u001b[0mdtype\u001b[0m\u001b[0;34m=\u001b[0m\u001b[0mself\u001b[0m\u001b[0;34m.\u001b[0m\u001b[0mham\u001b[0m\u001b[0;34m.\u001b[0m\u001b[0mctype\u001b[0m\u001b[0;34m)\u001b[0m\u001b[0;34m\u001b[0m\u001b[0m\n\u001b[0m\u001b[1;32m    102\u001b[0m \u001b[0;34m\u001b[0m\u001b[0m\n\u001b[1;32m    103\u001b[0m         \u001b[0;32mdef\u001b[0m \u001b[0mcalc_k\u001b[0m\u001b[0;34m(\u001b[0m\u001b[0mi_k\u001b[0m\u001b[0;34m)\u001b[0m\u001b[0;34m:\u001b[0m\u001b[0;34m\u001b[0m\u001b[0m\n",
      "\u001b[0;31mAttributeError\u001b[0m: 'dirac_ham_3d' object has no attribute 'ctype'"
     ]
    }
   ],
   "source": [
    "spin=False\n",
    "ham = dirac_ham_3d(spin)\n",
    "op_types = []\n",
    "op_types_k = [\"BC\"]\n",
    "Observables = observables(ham,K_space_sphere,op_types,op_types_k,PREFIX=\"2band_\")\n",
    "Observables.calculate_ops(write=False)\n",
    "### Integrate the BC\n",
    "BC = Observables.ops[\"BC\"].val\n",
    "BC_norm = np.linalg.norm(BC,axis=1)\n",
    "BC_int = np.sum(BC_norm,axis=0)*r**2/K_space_sphere.k_space_red.shape[0]/np.pi/(2*np.pi)\n",
    "print(BC_int)\n"
   ]
  },
  {
   "cell_type": "markdown",
   "metadata": {},
   "source": [
    "# Testing the E_triang operator\n",
    "At the valley momenta, the projection on the hexagonal sites A/B is given by:\n",
    "\\begin{aligned}\n",
    "    \\langle m| P_{A/B}|m\\rangle &= \\frac{1}{9}|\\sum_{i\\in \\{A,B\\}}\\sum_n^3 e^{ikR_n+n\\frac{2\\pi}{3}m}|^2 \\\\\n",
    "    &=\\frac{1}{9}|3+2e^{i\\phi}+e^{i2\\phi}+2e^{-i\\phi}+e^{-i2\\phi}| \\\\\n",
    "    &=\\frac{1}{9}(3+2\\cos{2\\phi}+4\\cos{\\phi})\n",
    "\\end{aligned}\n",
    "with $\\phi=k-K$ being the momentum deviation from the valley momenta"
   ]
  },
  {
   "cell_type": "code",
   "execution_count": 16,
   "metadata": {},
   "outputs": [],
   "source": [
    "class hexagonal_p_ham:\n",
    "    '''\n",
    "    This Hamiltonian has only a local L_z term for testing the operator \"E_triang\".\n",
    "    '''\n",
    "    def __init__(self,L):\n",
    "                \n",
    "        self.l      = L\n",
    "        self.E_pz   = -10\n",
    "        self.bra_vec= np.array([[1,0,0],[-1/2,np.sqrt(3)/2,0],[0,0,1]])\n",
    "        self.basis  = np.array([1])\n",
    "        self.ef     = 0\n",
    "        self.n_elec = 2\n",
    "        self.spin   = False\n",
    "        self.n_orb  = 3\n",
    "        self.n_bands= 3\n",
    "        self.ctype  = np.csingle\n",
    "\n",
    "    def hk(self,k_red):\n",
    "        d = np.zeros((k_red.shape[0],4))\n",
    "        d[:,2] = self.l\n",
    "        hk_out = np.zeros((k_red.shape[0],3,3),dtype=complex)\n",
    "        hk_out[:,0,0] = self.E_pz\n",
    "        hk_out[:,1:,1:] = np.einsum('ij,jkl->ikl',d,s)\n",
    "        return hk_out"
   ]
  },
  {
   "cell_type": "code",
   "execution_count": 17,
   "metadata": {},
   "outputs": [
    {
     "name": "stdout",
     "output_type": "stream",
     "text": [
      "Inititalizing k-dependent operator E_triang.\n",
      "Calculating operators on the given k-space...\n",
      "Diagonalizing all k-points in parallel.\n",
      "Time for running H(k) FT: 8.106231689453125e-05\n",
      "Time for diagonalizing H(k): 0.00013494491577148438\n",
      "Time for calculating expectation value of operator E_triang: 0.0006411075592041016\n",
      "Shifting eigenvalues w.r.t. Fermi level...\n",
      "Running post-processing for operator E_triang.\n",
      "No post-processing.\n",
      "Writing eigenvalues output.\n",
      "Writing output for operator E_triang.\n"
     ]
    }
   ],
   "source": [
    "hex_ham = hexagonal_p_ham(0.5)\n",
    "ktype  = \"path\"\n",
    "kbasis = \"red\"\n",
    "vecs   = np.array([[0,0,0],[1,1,0]])\n",
    "npoints = 10\n",
    "k_path_hex = k_space(ktype,kbasis,vecs,hex_ham.bra_vec,npoints)\n",
    "observables_hex = observables(hex_ham,k_path_hex,[],[\"E_triang\"],\"hex_p_\")\n",
    "observables_hex.calculate_ops()"
   ]
  },
  {
   "cell_type": "code",
   "execution_count": 18,
   "metadata": {},
   "outputs": [
    {
     "name": "stdout",
     "output_type": "stream",
     "text": [
      "[0.00000000e+00 8.59242670e-02 8.59242670e-02 0.00000000e+00\n",
      " 2.01689719e-01 7.12386014e-01 1.00000000e+00 7.12386014e-01\n",
      " 2.01689719e-01 4.93432455e-17]\n"
     ]
    }
   ],
   "source": [
    "### Calculating the expectation value by hand\n",
    "def sub_latt_loc(k,K):\n",
    "    phi = 2*np.pi /2* np.sum(k-K[None],axis=1)\n",
    "    sub_latt = (1/9*(3+2*np.cos(2*phi)+4*np.cos(phi)))\n",
    "    return sub_latt\n",
    "#constructive interference at K\n",
    "K = np.array([1/3,1/3,0])*2\n",
    "sl_char = sub_latt_loc(k_path_hex.k_space_red,K)\n",
    "print(sl_char)"
   ]
  },
  {
   "cell_type": "code",
   "execution_count": 19,
   "metadata": {},
   "outputs": [
    {
     "name": "stdout",
     "output_type": "stream",
     "text": [
      "[2.73910039e-32 8.59242647e-02 8.59242647e-02 6.16297561e-32\n",
      " 2.01689716e-01 7.12386014e-01 9.99999966e-01 7.12386014e-01\n",
      " 2.01689716e-01 8.90207614e-32]\n"
     ]
    },
    {
     "data": {
      "text/plain": [
       "True"
      ]
     },
     "execution_count": 19,
     "metadata": {},
     "output_type": "execute_result"
    }
   ],
   "source": [
    "print(observables_hex.ops[\"E_triang\"].val[:,0,2])\n",
    "np.allclose(sl_char,observables_hex.ops[\"E_triang\"].val[:,0,2])"
   ]
  }
 ],
 "metadata": {
  "kernelspec": {
   "display_name": "Python 3",
   "language": "python",
   "name": "python3"
  },
  "language_info": {
   "codemirror_mode": {
    "name": "ipython",
    "version": 3
   },
   "file_extension": ".py",
   "mimetype": "text/x-python",
   "name": "python",
   "nbconvert_exporter": "python",
   "pygments_lexer": "ipython3",
   "version": "3.5.4"
  }
 },
 "nbformat": 4,
 "nbformat_minor": 2
}
