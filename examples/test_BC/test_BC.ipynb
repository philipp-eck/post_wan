{
 "cells": [
  {
   "cell_type": "code",
   "execution_count": 6,
   "metadata": {},
   "outputs": [],
   "source": [
    "import numpy as np\n",
    "from observables import observables\n",
    "from k_space import k_space\n"
   ]
  },
  {
   "cell_type": "markdown",
   "metadata": {},
   "source": [
    "# Minimal p-Hamiltonian\n",
    "$p_z,p_x,p_y$-Hamiltonian, with Dirac point in the $p_x,p_y$ bands, gapped by $L_z$\n",
    "\\begin{aligned}\n",
    "    H = E_{p_z} + k_x \\cdot s_x + k_y \\cdot s_z + \\lambda \\cdot s_y\n",
    "\\end{aligned}"
   ]
  },
  {
   "cell_type": "code",
   "execution_count": 34,
   "metadata": {},
   "outputs": [],
   "source": [
    "s = np.zeros((4,2,2),dtype=complex)\n",
    "s[0] = np.eye(2)\n",
    "s[1] = np.array([[0,1],[1,0]])\n",
    "s[2] = 1j*np.array([[0,-1],[1,0]])\n",
    "s[3] = np.array([[1,0],[0,-1]])\n",
    "\n",
    "class dirac_ham:\n",
    "    def __init__(self,L):\n",
    "                \n",
    "        self.l      = L\n",
    "        self.E_pz   = -10\n",
    "        self.bra_vec= np.array([[1,0,0],[0,1,0],[0,0,1]])\n",
    "        self.basis  = np.array([1])\n",
    "        self.ef     = 0\n",
    "        self.n_elec = 2\n",
    "        self.spin   = False\n",
    "        self.n_orb  = 3\n",
    "        self.n_bands= 3\n",
    "\n",
    "    def hk(self,k_red):\n",
    "        d = np.zeros((k_red.shape[0],4))\n",
    "        d[:,1] = k_red[:,0]\n",
    "        d[:,3] = k_red[:,1]\n",
    "        d[:,2] = self.l\n",
    "        hk_out = np.zeros((k_red.shape[0],3,3),dtype=complex)\n",
    "        hk_out[:,0,0] = self.E_pz\n",
    "        hk_out[:,1:,1:] = np.einsum('ij,jkl->ikl',d,s)\n",
    "        return hk_out\n",
    "        \n",
    "    def del_hk(self,k_red):\n",
    "        d = np.zeros((k_red.shape[0],3,4))\n",
    "        d[:,0,1] = 1\n",
    "        d[:,1,3] = 1\n",
    "        del_hk_out = np.zeros((k_red.shape[0],3,3,3),dtype=complex)\n",
    "        del_hk_out[:,:,1:,1:] = np.einsum('idj,jkl->idkl',d,s)\n",
    "        print(del_hk_out.shape)\n",
    "        return del_hk_out\n",
    "\n",
    "\n",
    "\n"
   ]
  },
  {
   "cell_type": "code",
   "execution_count": 35,
   "metadata": {},
   "outputs": [],
   "source": [
    "ktype  = \"path\"\n",
    "kbasis = \"red\"\n",
    "vecs   = np.array([[-1,0,0],[1,0,0]])\n",
    "npoints = 100\n",
    "bra_vec = np.array([[1,0,0],[0,1,0],[0,0,1]])\n",
    "\n",
    "K_space = k_space(ktype,kbasis,vecs,bra_vec,npoints)"
   ]
  },
  {
   "cell_type": "code",
   "execution_count": 36,
   "metadata": {},
   "outputs": [
    {
     "name": "stdout",
     "output_type": "stream",
     "text": [
      "Initializing k-independent operator L.\n",
      "Inititalizing k-dependent operator BC.\n",
      "Calculating operators on the given k-space...\n",
      "Diagonalizing all k-points in parallel.\n",
      "Time for running H(k) FT: 0.0002970695495605469\n",
      "Time for diagonalizing H(k): 0.00039196014404296875\n",
      "Time for calculating expectation value of operator L: 0.0015940666198730469\n",
      "(100, 3, 3, 3)\n",
      "Time for calculating expectation value of operator BC: 0.002888917922973633\n",
      "Shifting eigenvalues w.r.t. Fermi level...\n",
      "Running post-processing for operator L.\n",
      "Running post-processing for operator BC.\n",
      "Writing eigenvalues output.\n",
      "Writing output for operator L.\n",
      "Writing output for operator BC.\n",
      "Writing band-integrated output for operator BC.\n"
     ]
    }
   ],
   "source": [
    "l=1\n",
    "ham = dirac_ham(l)\n",
    "op_types = [\"L\"]\n",
    "op_types_k = [\"BC\"]\n",
    "Observables = observables(ham,K_space,op_types,op_types_k)\n",
    "Observables.calculate_ops()"
   ]
  },
  {
   "cell_type": "markdown",
   "metadata": {},
   "source": [
    "# Calculation of the $z$-component of the valence BC by hand at k=0"
   ]
  },
  {
   "cell_type": "code",
   "execution_count": 73,
   "metadata": {},
   "outputs": [
    {
     "name": "stdout",
     "output_type": "stream",
     "text": [
      "Valence band Berry curvature: (-0.4999999999999998+0j)\n"
     ]
    }
   ],
   "source": [
    "k = np.array([[0,0,0]])\n",
    "hk = ham.hk(k)\n",
    "evals,evecs = np.linalg.eigh(hk)\n",
    "\n",
    "#valene and conduction eigenvectors\n",
    "v = evecs[:,1:,1]\n",
    "c = evecs[:,1:,2]\n",
    "# z-componend of the valence state\n",
    "vsxc = np.einsum(\"i,i\",v.conjugate()[0],np.einsum(\"ij,j\",s[1],c[0]))\n",
    "cszv = np.einsum(\"i,i\",c.conjugate()[0],np.einsum(\"ij,j\",s[3],v[0]))\n",
    "\n",
    "omega_z = 2*1j *vsxc*cszv/(evals[0,1]-evals[0,2])**2\n",
    "print(\"Valence band Berry curvature:\",omega_z)"
   ]
  },
  {
   "cell_type": "code",
   "execution_count": null,
   "metadata": {},
   "outputs": [],
   "source": []
  }
 ],
 "metadata": {
  "kernelspec": {
   "display_name": "Python 3",
   "language": "python",
   "name": "python3"
  },
  "language_info": {
   "codemirror_mode": {
    "name": "ipython",
    "version": 3
   },
   "file_extension": ".py",
   "mimetype": "text/x-python",
   "name": "python",
   "nbconvert_exporter": "python",
   "pygments_lexer": "ipython3",
   "version": "3.5.4"
  }
 },
 "nbformat": 4,
 "nbformat_minor": 2
}
