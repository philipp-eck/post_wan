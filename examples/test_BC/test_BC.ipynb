{
 "cells": [
  {
   "cell_type": "code",
   "execution_count": 1,
   "metadata": {},
   "outputs": [],
   "source": [
    "import numpy as np\n",
    "from observables import observables\n",
    "from k_space import k_space\n"
   ]
  },
  {
   "cell_type": "markdown",
   "metadata": {},
   "source": [
    "# Minimal p-Hamiltonian\n",
    "$p_z,p_x,p_y$-Hamiltonian, with Dirac point in the $p_x,p_y$ bands, gapped by $L_z$\n",
    "\\begin{aligned}\n",
    "    H = E_{p_z} + k_x \\cdot s_x + k_y \\cdot s_z + \\lambda \\cdot s_y\n",
    "\\end{aligned}"
   ]
  },
  {
   "cell_type": "code",
   "execution_count": 2,
   "metadata": {},
   "outputs": [],
   "source": [
    "s = np.zeros((4,2,2),dtype=complex)\n",
    "s[0] = np.eye(2)\n",
    "s[1] = np.array([[0,1],[1,0]])\n",
    "s[2] = 1j*np.array([[0,-1],[1,0]])\n",
    "s[3] = np.array([[1,0],[0,-1]])\n",
    "\n",
    "class dirac_ham:\n",
    "    def __init__(self,L):\n",
    "                \n",
    "        self.l      = L\n",
    "        self.E_pz   = -10\n",
    "        self.bra_vec= np.array([[1,0,0],[0,1,0],[0,0,1]])\n",
    "        self.basis  = np.array([1])\n",
    "        self.ef     = 0\n",
    "        self.n_elec = 2\n",
    "        self.spin   = False\n",
    "        self.n_orb  = 3\n",
    "        self.n_bands= 3\n",
    "\n",
    "    def hk(self,k_red):\n",
    "        d = np.zeros((k_red.shape[0],4))\n",
    "        d[:,1] = k_red[:,0]\n",
    "        d[:,3] = k_red[:,1]\n",
    "        d[:,2] = self.l\n",
    "        hk_out = np.zeros((k_red.shape[0],3,3),dtype=complex)\n",
    "        hk_out[:,0,0] = self.E_pz\n",
    "        hk_out[:,1:,1:] = np.einsum('ij,jkl->ikl',d,s)\n",
    "        return hk_out\n",
    "        \n",
    "    def del_hk(self,k_red):\n",
    "        d = np.zeros((k_red.shape[0],3,4))\n",
    "        d[:,0,1] = 1\n",
    "        d[:,1,3] = 1\n",
    "        del_hk_out = np.zeros((k_red.shape[0],3,3,3),dtype=complex)\n",
    "        del_hk_out[:,:,1:,1:] = np.einsum('idj,jkl->idkl',d,s)\n",
    "        return del_hk_out\n",
    "\n",
    "\n",
    "\n"
   ]
  },
  {
   "cell_type": "code",
   "execution_count": 17,
   "metadata": {},
   "outputs": [],
   "source": [
    "ktype  = \"path\"\n",
    "kbasis = \"red\"\n",
    "vecs   = np.array([[-1,0,0],[1,0,0]])\n",
    "npoints = 101\n",
    "bra_vec = np.array([[1,0,0],[0,1,0],[0,0,1]])\n",
    "\n",
    "K_space = k_space(ktype,kbasis,vecs,bra_vec,npoints)"
   ]
  },
  {
   "cell_type": "code",
   "execution_count": 18,
   "metadata": {},
   "outputs": [
    {
     "name": "stdout",
     "output_type": "stream",
     "text": [
      "Initializing k-independent operator L.\n",
      "Inititalizing k-dependent operator BC.\n",
      "Inititalizing k-dependent operator BC_L.\n",
      "Calculating operators on the given k-space...\n",
      "Diagonalizing all k-points in parallel.\n",
      "Time for running H(k) FT: 0.00010204315185546875\n",
      "Time for diagonalizing H(k): 0.0003437995910644531\n",
      "Time for calculating expectation value of operator L: 0.0006799697875976562\n",
      "Time for calculating expectation value of operator BC: 0.0052738189697265625\n",
      "Time for calculating expectation value of operator BC_L: 0.01666879653930664\n",
      "Shifting eigenvalues w.r.t. Fermi level...\n",
      "Running post-processing for operator L.\n",
      "Running post-processing for operator BC.\n",
      "Running post-processing for operator BC_L.\n",
      "Writing eigenvalues output.\n",
      "Writing output for operator L.\n",
      "Writing output for operator BC.\n",
      "Writing output for operator BC_L.\n",
      "Writing band-integrated output for operator BC.\n",
      "Writing band-integrated output for operator BC_L.\n"
     ]
    }
   ],
   "source": [
    "l=0.2\n",
    "ham = dirac_ham(l)\n",
    "op_types = [\"L\"]\n",
    "op_types_k = [\"BC\",\"BC_L\"]\n",
    "Observables = observables(ham,K_space,op_types,op_types_k)\n",
    "Observables.calculate_ops()"
   ]
  },
  {
   "cell_type": "markdown",
   "metadata": {},
   "source": [
    "# Calculate the coupling strength to optical fields\n",
    "Here we follow the approach given in https://journals.aps.org/prl/pdf/10.1103/PhysRevLett.108.196802 given by\n",
    "\\begin{aligned}\n",
    "P_\\alpha(k)=\\langle u_c(k) |\\frac{dH}{dk_\\alpha}| u_v(k)\\rangle\n",
    "\\end{aligned}"
   ]
  },
  {
   "cell_type": "code",
   "execution_count": 33,
   "metadata": {},
   "outputs": [
    {
     "name": "stdout",
     "output_type": "stream",
     "text": [
      "[-10.   -0.2   0.2]\n",
      "(3, 3)\n",
      "[0.-1.j 1.+0.j 0.+0.j]\n"
     ]
    }
   ],
   "source": [
    "ham = dirac_ham(l)\n",
    "k = np.zeros((1,3))\n",
    "evals,evecs = np.linalg.eigh(ham.hk(k)[0])\n",
    "print(evals)\n",
    "h_del_k = ham.del_hk(k)[0]\n",
    "print(evecs.shape)\n",
    "p = np.einsum(\"j,xjk,k->x\",evecs[:,2].conjugate(),h_del_k,evecs[:,1])\n",
    "print(p)"
   ]
  },
  {
   "cell_type": "code",
   "execution_count": 9,
   "metadata": {},
   "outputs": [],
   "source": [
    "np.linalg.eigh?"
   ]
  },
  {
   "cell_type": "markdown",
   "metadata": {},
   "source": [
    "# Calculation of the $z$-component of the valence BC by hand at k=0"
   ]
  },
  {
   "cell_type": "code",
   "execution_count": 5,
   "metadata": {},
   "outputs": [
    {
     "name": "stdout",
     "output_type": "stream",
     "text": [
      "Valence band Berry curvature: (-12.499999999999993+0j)\n"
     ]
    }
   ],
   "source": [
    "k = np.array([[0,0,0]])\n",
    "hk = ham.hk(k)\n",
    "evals,evecs = np.linalg.eigh(hk)\n",
    "\n",
    "#valene and conduction eigenvectors\n",
    "v = evecs[:,1:,1]\n",
    "c = evecs[:,1:,2]\n",
    "# z-componend of the valence state\n",
    "vsxc = np.einsum(\"i,i\",v.conjugate()[0],np.einsum(\"ij,j\",s[1],c[0]))\n",
    "cszv = np.einsum(\"i,i\",c.conjugate()[0],np.einsum(\"ij,j\",s[3],v[0]))\n",
    "\n",
    "omega_z = 2*1j *vsxc*cszv/(evals[0,1]-evals[0,2])**2\n",
    "print(\"Valence band Berry curvature:\",omega_z)"
   ]
  },
  {
   "cell_type": "markdown",
   "metadata": {},
   "source": [
    "# Minimal p-Hamiltonian\n",
    "two band Hamiltonian, 3D\n",
    "\\begin{aligned}\n",
    "    H = \\vec{k}\\cdot\\vec{S}\n",
    "\\end{aligned}"
   ]
  },
  {
   "cell_type": "code",
   "execution_count": 6,
   "metadata": {},
   "outputs": [],
   "source": [
    "class dirac_ham_3d:\n",
    "    def __init__(self,SPIN):\n",
    "                \n",
    "        self.bra_vec= np.array([[1,0,0],[0,1,0],[0,0,1]])\n",
    "        self.basis  = np.array([0,0])\n",
    "        self.ef     = 0\n",
    "        self.n_elec = 2\n",
    "        self.spin   = SPIN\n",
    "        self.n_orb  = 2\n",
    "        self.n_bands= 2\n",
    "\n",
    "    def hk(self,k_red):\n",
    "        d = np.zeros((k_red.shape[0],4))\n",
    "        d[:,1] = k_red[:,0]\n",
    "        d[:,2] = k_red[:,1]\n",
    "        d[:,3] = k_red[:,2]\n",
    "        hk_out = np.zeros((k_red.shape[0],self.n_orb,self.n_orb),dtype=complex)\n",
    "        hk_out = np.einsum('ks,sij->kij',d,s)\n",
    "        return hk_out\n",
    "        \n",
    "    def del_hk(self,k_red):\n",
    "        d = np.zeros((k_red.shape[0],3,4))\n",
    "        d[:,0,1] = 1\n",
    "        d[:,1,2] = 1\n",
    "        d[:,2,3] = 1\n",
    "        del_hk_out = np.zeros((k_red.shape[0],3,self.n_orb,self.n_orb),dtype=complex)\n",
    "        del_hk_out = np.einsum('kds,sij->kdij',d,s)\n",
    "        return del_hk_out"
   ]
  },
  {
   "cell_type": "code",
   "execution_count": 7,
   "metadata": {},
   "outputs": [],
   "source": [
    "ktype  = \"plane\"\n",
    "kbasis = \"red\"\n",
    "vecs   = np.array([[0,0,0],[1,0,0],[0,1,0]])\n",
    "npoints = 101\n",
    "bra_vec = np.array([[1,0,0],[0,1,0],[0,0,1]])\n",
    "\n",
    "K_space_map = k_space(ktype,kbasis,vecs,bra_vec,npoints)\n",
    "\n",
    "ktype  = \"sphere\"\n",
    "kbasis = \"car\"\n",
    "vecs   = np.array([[0,0,0]])\n",
    "npoints = 10\n",
    "r       = 0.1\n",
    "bra_vec = np.array([[1,0,0],[0,1,0],[0,0,1]])\n",
    "\n",
    "K_space_sphere = k_space(ktype,kbasis,vecs,bra_vec,npoints,r)\n"
   ]
  },
  {
   "cell_type": "code",
   "execution_count": 8,
   "metadata": {},
   "outputs": [
    {
     "name": "stdout",
     "output_type": "stream",
     "text": [
      "Inititalizing k-dependent operator BC.\n",
      "Calculating operators on the given k-space...\n",
      "Diagonalizing all k-points in parallel.\n",
      "Time for running H(k) FT: 0.00010514259338378906\n",
      "Time for diagonalizing H(k): 0.0002319812774658203\n",
      "Time for calculating expectation value of operator BC: 0.0018658638000488281\n",
      "Shifting eigenvalues w.r.t. Fermi level...\n",
      "Running post-processing for operator BC.\n",
      "[1. 1.]\n"
     ]
    }
   ],
   "source": [
    "spin=False\n",
    "ham = dirac_ham_3d(spin)\n",
    "op_types = []\n",
    "op_types_k = [\"BC\"]\n",
    "Observables = observables(ham,K_space_sphere,op_types,op_types_k,PREFIX=\"2band_\")\n",
    "Observables.calculate_ops(write=False)\n",
    "### Integrate the BC\n",
    "BC = Observables.ops[\"BC\"].val\n",
    "BC_norm = np.linalg.norm(BC,axis=1)\n",
    "BC_int = np.sum(BC_norm,axis=0)*r**2/K_space_sphere.k_space_red.shape[0]/np.pi/(2*np.pi)\n",
    "print(BC_int)\n"
   ]
  },
  {
   "cell_type": "code",
   "execution_count": null,
   "metadata": {},
   "outputs": [],
   "source": []
  },
  {
   "cell_type": "code",
   "execution_count": null,
   "metadata": {},
   "outputs": [],
   "source": []
  }
 ],
 "metadata": {
  "kernelspec": {
   "display_name": "Python 3",
   "language": "python",
   "name": "python3"
  },
  "language_info": {
   "codemirror_mode": {
    "name": "ipython",
    "version": 3
   },
   "file_extension": ".py",
   "mimetype": "text/x-python",
   "name": "python",
   "nbconvert_exporter": "python",
   "pygments_lexer": "ipython3",
   "version": "3.5.4"
  }
 },
 "nbformat": 4,
 "nbformat_minor": 2
}
